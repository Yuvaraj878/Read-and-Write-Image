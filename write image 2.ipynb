{
 "cells": [
  {
   "cell_type": "code",
   "execution_count": null,
   "id": "44ca99c9-3bac-4cd8-b116-d561012b7d5e",
   "metadata": {},
   "outputs": [],
   "source": [
    "import cv2\n",
    "color_img=cv2.imread('bike.webp',1)\n",
    "w=cv2.imwrite('1.png',color_img)\n",
    "cv2.imshow('212222240119,Yuvaraj.S',color_img)\n",
    "cv2.waitKey(0)\n",
    "\n"
   ]
  },
  {
   "cell_type": "code",
   "execution_count": null,
   "id": "c71173c9-d5da-4515-8a25-192e0317504b",
   "metadata": {},
   "outputs": [],
   "source": []
  }
 ],
 "metadata": {
  "kernelspec": {
   "display_name": "Python 3 (ipykernel)",
   "language": "python",
   "name": "python3"
  },
  "language_info": {
   "codemirror_mode": {
    "name": "ipython",
    "version": 3
   },
   "file_extension": ".py",
   "mimetype": "text/x-python",
   "name": "python",
   "nbconvert_exporter": "python",
   "pygments_lexer": "ipython3",
   "version": "3.10.4"
  }
 },
 "nbformat": 4,
 "nbformat_minor": 5
}
