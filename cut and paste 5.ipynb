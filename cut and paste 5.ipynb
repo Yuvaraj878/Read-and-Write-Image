{
 "cells": [
  {
   "cell_type": "code",
   "execution_count": null,
   "id": "01534364-844e-4300-8888-56b127366a65",
   "metadata": {},
   "outputs": [],
   "source": [
    "import cv2\n",
    "color_img = cv2.imread('bike.webp',1)\n",
    "color_img = cv2.resize(color_img, (300, 430))\n",
    "color_img[500:550,500:550]=[0,0,0]\n",
    "cut= color_img[37:111,108:195]\n",
    "color_img[0:74,0:87]=cut\n",
    "cv2.imshow('212222240119,Yuvaraj.S',color_img)\n",
    "cv2.waitKey(0)"
   ]
  },
  {
   "cell_type": "code",
   "execution_count": null,
   "id": "7f860d95-28c0-431a-9ed6-10de20be4f43",
   "metadata": {},
   "outputs": [],
   "source": []
  }
 ],
 "metadata": {
  "kernelspec": {
   "display_name": "Python 3 (ipykernel)",
   "language": "python",
   "name": "python3"
  },
  "language_info": {
   "codemirror_mode": {
    "name": "ipython",
    "version": 3
   },
   "file_extension": ".py",
   "mimetype": "text/x-python",
   "name": "python",
   "nbconvert_exporter": "python",
   "pygments_lexer": "ipython3",
   "version": "3.10.4"
  }
 },
 "nbformat": 4,
 "nbformat_minor": 5
}
